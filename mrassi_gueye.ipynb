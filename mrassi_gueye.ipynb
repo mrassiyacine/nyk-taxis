{
 "cells": [
  {
   "cell_type": "markdown",
   "id": "creative-subcommittee",
   "metadata": {},
   "source": [
    "# Names"
   ]
  },
  {
   "cell_type": "markdown",
   "id": "black-spirit",
   "metadata": {},
   "source": [
    "- Mrassi, Yacine, 21962368, Informatique\n",
    "- GUEYE, Cheikh Mouhamadou Moustapha, 22220071, MIDS"
   ]
  },
  {
   "cell_type": "markdown",
   "id": "innocent-portrait",
   "metadata": {},
   "source": [
    "# New York taxis trips\n",
    "\n",
    "This homework is about New York taxi trips. Here is something from [Todd Schneider](https://toddwschneider.com/posts/analyzing-1-1-billion-nyc-taxi-and-uber-trips-with-a-vengeance/):\n",
    "\n",
    "> The New York City Taxi & Limousine Commission has released a  detailed historical dataset covering over 1 billion individual taxi trips in the city from January 2009 through December 2019. \n",
    "Taken as a whole, the detailed trip-level data is more than just a vast list of taxi pickup and drop off coordinates: it's a story of a City. \n",
    "How bad is the rush hour traffic from Midtown to JFK? \n",
    "Where does the Bridge and Tunnel crowd hang out on Saturday nights?\n",
    "What time do investment bankers get to work? How has Uber changed the landscape for taxis?\n",
    "The dataset addresses all of these questions and many more.\n",
    "\n",
    "The dataset is available from New York City Government:\n",
    "\n",
    "        https://www.nyc.gov/site/tlc/about/tlc-trip-record-data.page\n",
    "\n",
    "There is one parquet file for each NY taxi service (yellow, green, fhv) and each calendar\n",
    "month). Each file is moderately large (up to hundreds of megabytes). The full dataset is\n",
    "relatively large if it has to be handled on a laptop (several hundred gigabytes)"
   ]
  },
  {
   "cell_type": "code",
   "execution_count": null,
   "id": "naval-grenada",
   "metadata": {
    "ExecuteTime": {
     "end_time": "2023-05-24T20:59:33.893145Z",
     "start_time": "2023-05-24T20:59:33.888613Z"
    }
   },
   "outputs": [],
   "source": [
    "#!pip install nbconvert"
   ]
  },
  {
   "cell_type": "code",
   "execution_count": null,
   "id": "comparative-trading",
   "metadata": {
    "ExecuteTime": {
     "end_time": "2023-05-24T20:59:34.153530Z",
     "start_time": "2023-05-24T20:59:34.145840Z"
    }
   },
   "outputs": [],
   "source": [
    "#!pip install contextily"
   ]
  },
  {
   "cell_type": "code",
   "execution_count": null,
   "id": "devoted-classroom",
   "metadata": {
    "ExecuteTime": {
     "end_time": "2023-05-24T20:59:34.356626Z",
     "start_time": "2023-05-24T20:59:34.353645Z"
    }
   },
   "outputs": [],
   "source": [
    "#!pip install geojson geopandas plotly"
   ]
  },
  {
   "cell_type": "code",
   "execution_count": null,
   "id": "primary-regression",
   "metadata": {
    "ExecuteTime": {
     "end_time": "2023-05-24T20:59:34.575477Z",
     "start_time": "2023-05-24T20:59:34.565970Z"
    }
   },
   "outputs": [],
   "source": [
    "#!pip install ipyleaflet"
   ]
  },
  {
   "cell_type": "markdown",
   "id": "streaming-success",
   "metadata": {},
   "source": [
    "## Packages"
   ]
  },
  {
   "cell_type": "code",
   "execution_count": null,
   "id": "suited-recommendation",
   "metadata": {
    "ExecuteTime": {
     "end_time": "2023-05-24T20:59:35.001983Z",
     "start_time": "2023-05-24T20:59:34.997772Z"
    }
   },
   "outputs": [],
   "source": [
    "import os\n",
    "import urllib.request"
   ]
  },
  {
   "cell_type": "code",
   "execution_count": null,
   "id": "naked-penny",
   "metadata": {
    "ExecuteTime": {
     "end_time": "2023-05-24T20:59:35.528066Z",
     "start_time": "2023-05-24T20:59:35.257080Z"
    }
   },
   "outputs": [],
   "source": [
    "from pyspark import SparkConf, SparkContext\n",
    "from pyspark.sql import SparkSession, DataFrame\n",
    "from pyspark.sql import functions as F\n",
    "from pyspark.sql.functions import col, broadcast, dayofweek, hour, count, avg, unix_timestamp, expr,date_format, to_date\n",
    "from pyspark.sql.catalog import Catalog\n",
    "from pyspark.sql.types import StructType, StructField, IntegerType, StringType"
   ]
  },
  {
   "cell_type": "code",
   "execution_count": null,
   "id": "animated-brown",
   "metadata": {
    "ExecuteTime": {
     "end_time": "2023-05-24T20:59:35.913426Z",
     "start_time": "2023-05-24T20:59:35.530280Z"
    }
   },
   "outputs": [],
   "source": [
    "import pandas as pd"
   ]
  },
  {
   "cell_type": "code",
   "execution_count": null,
   "id": "accessible-hepatitis",
   "metadata": {
    "ExecuteTime": {
     "end_time": "2023-05-24T20:59:37.296064Z",
     "start_time": "2023-05-24T20:59:35.915582Z"
    }
   },
   "outputs": [],
   "source": [
    "import geopandas as gpd\n",
    "from matplotlib import pyplot as plt\n",
    "import plotly.express as px\n",
    "from plotly.subplots import make_subplots\n",
    "import plotly.express as px\n",
    "import seaborn as sns"
   ]
  },
  {
   "cell_type": "markdown",
   "id": "civilian-teach",
   "metadata": {},
   "source": [
    "# Downloading data and Preparing spark"
   ]
  },
  {
   "cell_type": "code",
   "execution_count": null,
   "id": "aquatic-birth",
   "metadata": {
    "ExecuteTime": {
     "end_time": "2023-05-24T20:59:37.309704Z",
     "start_time": "2023-05-24T20:59:37.298401Z"
    },
    "scrolled": false
   },
   "outputs": [],
   "source": [
    "def download_taxi_data(year, month, data_type):\n",
    "    base_url = \"https://d37ci6vzurychx.cloudfront.net/trip-data/\"\n",
    "    filename = f\"{data_type}_tripdata_{year}-{month:02d}.parquet\"\n",
    "    file_url = base_url + filename\n",
    "    fpath = filename\n",
    "\n",
    "    if os.path.exists(fpath):\n",
    "        print(f\"{filename} already exists!\")\n",
    "    else:\n",
    "        print(f\"Downloading {filename}...\")\n",
    "        urllib.request.urlretrieve(file_url, fpath)\n",
    "        print(f\"{filename} downloaded.\")\n",
    "        \n",
    "        \n",
    "years = [2019, 2020, 2021, 2022]\n",
    "months = [4,12]\n",
    "data_types = [\"yellow\", \"fhv\"]\n",
    "\n",
    "for year in years:\n",
    "    for month in months:\n",
    "        for data_type in data_types:\n",
    "            download_taxi_data(year, month, data_type)\n",
    "            "
   ]
  },
  {
   "cell_type": "code",
   "execution_count": null,
   "id": "boolean-complaint",
   "metadata": {
    "ExecuteTime": {
     "end_time": "2023-05-24T20:59:38.466144Z",
     "start_time": "2023-05-24T20:59:37.723788Z"
    }
   },
   "outputs": [],
   "source": [
    "\"\"\"\n",
    "I have a machine with 4 CPU cores and about 8 GB RAM.\n",
    "I am using Intel(R) Core(TM) i5-6300U CPU @ 2.40GHz processor.\n",
    "\"\"\"\n",
    "\"\"\"\n",
    "free -h\n",
    "              total       utilisé      libre     partagé tamp/cache   disponible\n",
    "Mem:          7,6Gi       4,4Gi       398Mi       512Mi       2,9Gi       2,5Gi\n",
    "Partition d'échange:       2,0Gi        29Mi       2,0Gi\n",
    "\n",
    "\"\"\"\n",
    "%ls -l --block-size=MB"
   ]
  },
  {
   "cell_type": "code",
   "execution_count": null,
   "id": "tight-burning",
   "metadata": {
    "ExecuteTime": {
     "end_time": "2023-05-24T20:59:44.658834Z",
     "start_time": "2023-05-24T20:59:38.477508Z"
    }
   },
   "outputs": [],
   "source": [
    "spark = SparkSession \\\n",
    "    .builder \\\n",
    "    .appName(\"NY Taxi Data Analysis\") \\\n",
    "    .config(\"spark.driver.memory\", \"3g\") \\\n",
    "    .config(\"spark.executor.memory\", \"3g\") \\\n",
    "    .config(\"spark.cores.max\", \"3\") \\\n",
    "    .config(\"spark.sql.shuffle.partitions\", \"100\") \\\n",
    "    .getOrCreate()\n",
    "\n"
   ]
  },
  {
   "cell_type": "code",
   "execution_count": null,
   "id": "least-motivation",
   "metadata": {
    "ExecuteTime": {
     "end_time": "2023-05-24T20:59:50.723164Z",
     "start_time": "2023-05-24T20:59:44.665962Z"
    }
   },
   "outputs": [],
   "source": [
    "dfs = {}\n",
    "\n",
    "for year in years:\n",
    "    for month in months:\n",
    "        for data_type in data_types:\n",
    "            filename = f\"{data_type}_tripdata_{year}-{month:02d}.parquet\"\n",
    "            df = spark.read.parquet(filename)\n",
    "            dfs[(year, month, data_type)] = df\n"
   ]
  },
  {
   "cell_type": "markdown",
   "id": "applied-locator",
   "metadata": {},
   "source": [
    "# Extracting Latitude and Longitude of Taxi Zones and adding it to the dataframe"
   ]
  },
  {
   "cell_type": "code",
   "execution_count": null,
   "id": "basic-abuse",
   "metadata": {
    "ExecuteTime": {
     "end_time": "2023-05-24T20:59:50.771544Z",
     "start_time": "2023-05-24T20:59:50.725693Z"
    }
   },
   "outputs": [],
   "source": [
    "import zipfile\n",
    "import io\n",
    "\n",
    "\n",
    "file_url = \"https://d37ci6vzurychx.cloudfront.net/misc/taxi_zones.zip\"\n",
    "\n",
    "fpath = \"taxi_zones.zip\"\n",
    "\n",
    "if os.path.exists(fpath):\n",
    "    print(f\"{filename} already exists!\")\n",
    "else:\n",
    "    print(f\"Downloading {filename}...\")\n",
    "    r=urllib.request.urlretrieve(file_url, fpath)\n",
    "    print(f\"{fpath} downloaded.\")\n",
    "    \n",
    "\n",
    "with zipfile.ZipFile(fpath, 'r') as zip_ref:\n",
    "    zip_ref.extractall('./')\n"
   ]
  },
  {
   "cell_type": "code",
   "execution_count": null,
   "id": "imported-winter",
   "metadata": {
    "ExecuteTime": {
     "end_time": "2023-05-24T21:00:01.869758Z",
     "start_time": "2023-05-24T20:59:50.774523Z"
    }
   },
   "outputs": [],
   "source": [
    "taxi_zones_gdf = gpd.read_file(\"taxi_zones.shp\")\n",
    "taxi_zones_gdf = taxi_zones_gdf.to_crs(4326)\n",
    "taxi_zones_df = pd.DataFrame(taxi_zones_gdf)"
   ]
  },
  {
   "cell_type": "code",
   "execution_count": null,
   "id": "available-certification",
   "metadata": {
    "ExecuteTime": {
     "end_time": "2023-05-24T21:00:01.886387Z",
     "start_time": "2023-05-24T21:00:01.871816Z"
    }
   },
   "outputs": [],
   "source": [
    "taxi_zones_df.dtypes"
   ]
  },
  {
   "cell_type": "code",
   "execution_count": null,
   "id": "unique-soviet",
   "metadata": {
    "ExecuteTime": {
     "end_time": "2023-05-24T21:00:01.915804Z",
     "start_time": "2023-05-24T21:00:01.890670Z"
    }
   },
   "outputs": [],
   "source": [
    "taxi_zones_df['centroid'] = taxi_zones_df['geometry'].apply(lambda x: x.centroid)\n",
    "taxi_zones_df['longitude'] = taxi_zones_df['centroid'].apply(lambda x: x.x)\n",
    "taxi_zones_df['latitude'] = taxi_zones_df['centroid'].apply(lambda x: x.y)"
   ]
  },
  {
   "cell_type": "code",
   "execution_count": null,
   "id": "genetic-mentor",
   "metadata": {
    "ExecuteTime": {
     "end_time": "2023-05-24T21:00:01.928155Z",
     "start_time": "2023-05-24T21:00:01.921187Z"
    }
   },
   "outputs": [],
   "source": [
    "taxi_zones_df.dtypes\n"
   ]
  },
  {
   "cell_type": "code",
   "execution_count": null,
   "id": "stopped-princess",
   "metadata": {
    "ExecuteTime": {
     "end_time": "2023-05-24T21:00:02.073856Z",
     "start_time": "2023-05-24T21:00:01.931476Z"
    }
   },
   "outputs": [],
   "source": [
    "taxi_zones_spark_df = spark.createDataFrame(taxi_zones_df[['LocationID', 'longitude', 'latitude']])"
   ]
  },
  {
   "cell_type": "code",
   "execution_count": null,
   "id": "paperback-colorado",
   "metadata": {
    "ExecuteTime": {
     "end_time": "2023-05-24T21:00:04.238454Z",
     "start_time": "2023-05-24T21:00:02.086202Z"
    }
   },
   "outputs": [],
   "source": [
    "taxi_zones_spark_df.show(3)\n"
   ]
  },
  {
   "cell_type": "code",
   "execution_count": null,
   "id": "personal-arkansas",
   "metadata": {
    "ExecuteTime": {
     "end_time": "2023-05-24T21:00:04.249634Z",
     "start_time": "2023-05-24T21:00:04.241469Z"
    }
   },
   "outputs": [],
   "source": [
    "def associating_Pickup_Dropoff_Location_IDs_with_Longitude_Latitude(df):\n",
    "    if 'pickup_longitude' not in df.columns and 'pickup_latitude' not in df.columns:    \n",
    "        df = df.join(\n",
    "            broadcast(taxi_zones_spark_df),\n",
    "            df[\"PULocationID\"] == taxi_zones_spark_df[\"LocationID\"],\n",
    "            \"left\"\n",
    "        ).withColumnRenamed(\"longitude\", \"pickup_longitude\") \\\n",
    "            .withColumnRenamed(\"latitude\", \"pickup_latitude\") \\\n",
    "            .drop(\"LocationID\")\n",
    "    if 'dropoff_longitude' not in df.columns and 'dropoff_latitude' not in df.columns:\n",
    "        df = df.join(\n",
    "            broadcast(taxi_zones_spark_df),\n",
    "            df[\"DOLocationID\"] == taxi_zones_spark_df[\"LocationID\"],\n",
    "            \"left\"\n",
    "        ).withColumnRenamed(\"longitude\", \"dropoff_longitude\") \\\n",
    "            .withColumnRenamed(\"latitude\", \"dropoff_latitude\") \\\n",
    "            .drop(\"LocationID\")\n",
    "    return df"
   ]
  },
  {
   "cell_type": "markdown",
   "id": "furnished-joyce",
   "metadata": {},
   "source": [
    "The following longitudes and lattitudes encompass Newark and JFK airports, Northern Man-\n",
    "hattan and Verazzano bridge."
   ]
  },
  {
   "cell_type": "code",
   "execution_count": null,
   "id": "inner-vatican",
   "metadata": {
    "ExecuteTime": {
     "end_time": "2023-05-24T21:00:04.258910Z",
     "start_time": "2023-05-24T21:00:04.252515Z"
    }
   },
   "outputs": [],
   "source": [
    "long_min = -74.10\n",
    "long_max = -73.70\n",
    "lat_min = 40.58\n",
    "lat_max = 40.90"
   ]
  },
  {
   "cell_type": "markdown",
   "id": "affecting-validation",
   "metadata": {},
   "source": [
    "# Invesitage the data of April 2019 for yellow taxis"
   ]
  },
  {
   "cell_type": "code",
   "execution_count": null,
   "id": "protected-complex",
   "metadata": {
    "ExecuteTime": {
     "end_time": "2023-05-24T21:00:04.269825Z",
     "start_time": "2023-05-24T21:00:04.264997Z"
    }
   },
   "outputs": [],
   "source": [
    "df_04_19 = dfs[(2019,4,'yellow')]\n",
    "df_04_20 = dfs[(2020,4,'yellow')]"
   ]
  },
  {
   "cell_type": "markdown",
   "id": "finnish-college",
   "metadata": {},
   "source": [
    "Associating Taxi Ride Pickup and Dropoff Location IDs with Longitude and Latitude Coordinates"
   ]
  },
  {
   "cell_type": "code",
   "execution_count": null,
   "id": "premier-terrorist",
   "metadata": {
    "ExecuteTime": {
     "end_time": "2023-05-24T21:00:04.851467Z",
     "start_time": "2023-05-24T21:00:04.276963Z"
    }
   },
   "outputs": [],
   "source": [
    "df_04_19 = associating_Pickup_Dropoff_Location_IDs_with_Longitude_Latitude(df_04_19)\n",
    "df_04_20 = associating_Pickup_Dropoff_Location_IDs_with_Longitude_Latitude(df_04_20)"
   ]
  },
  {
   "cell_type": "markdown",
   "id": "fancy-awareness",
   "metadata": {},
   "source": [
    "Using boundaries defined previously, let's filter the 2019 april data (using pickup and dropoff longitude and latitude) and count the number of trips for each value of passenger_count and make a plot of that."
   ]
  },
  {
   "cell_type": "code",
   "execution_count": null,
   "id": "threaded-consideration",
   "metadata": {
    "ExecuteTime": {
     "end_time": "2023-05-24T21:00:04.873314Z",
     "start_time": "2023-05-24T21:00:04.853726Z"
    }
   },
   "outputs": [],
   "source": [
    "def total_trips_by_passenger_count(df):\n",
    "            df = df.na.drop(subset=['passenger_count'])\n",
    "            return (df\n",
    "               .filter(\n",
    "                        (col('pickup_longitude') >= long_min) & (col('pickup_longitude') <= long_max) &\n",
    "                        (col('pickup_latitude') >= lat_min) & (col('pickup_latitude') <= lat_max) &\n",
    "                        (col('dropoff_longitude') >= long_min) & (col('dropoff_longitude') <= long_max) &\n",
    "                        (col('dropoff_latitude') >= lat_min) & (col('dropoff_latitude') <= lat_max))\n",
    "               .groupBy(\"passenger_count\").agg(F.count(\"*\").alias(\"trip_counts\"))\n",
    "              )\n",
    "def plot_total_trips_by_passenger_count(df,date):\n",
    "    total_trips_by_passenger_count_Pandas= df.toPandas()\n",
    "    plt.bar(total_trips_by_passenger_count_Pandas.passenger_count, total_trips_by_passenger_count_Pandas.trip_counts)\n",
    "    plt.xlabel('Passenger Count')\n",
    "    plt.ylabel('Number of Trips')\n",
    "    plt.title(f\"Total Trips by Passenger Count of {date}\")\n",
    "    plt.show()"
   ]
  },
  {
   "cell_type": "code",
   "execution_count": null,
   "id": "completed-revision",
   "metadata": {
    "ExecuteTime": {
     "end_time": "2023-05-24T21:00:05.302498Z",
     "start_time": "2023-05-24T21:00:04.880029Z"
    }
   },
   "outputs": [],
   "source": [
    "total_Trips_by_Passenger_Count_of_04_19 = total_trips_by_passenger_count(df_04_19)"
   ]
  },
  {
   "cell_type": "code",
   "execution_count": null,
   "id": "immediate-capacity",
   "metadata": {
    "ExecuteTime": {
     "end_time": "2023-05-24T21:00:05.475566Z",
     "start_time": "2023-05-24T21:00:05.305209Z"
    }
   },
   "outputs": [],
   "source": [
    "total_Trips_by_Passenger_Count_of_04_20 = total_trips_by_passenger_count(df_04_20)"
   ]
  },
  {
   "cell_type": "code",
   "execution_count": null,
   "id": "boring-topic",
   "metadata": {
    "ExecuteTime": {
     "end_time": "2023-05-24T21:00:14.031060Z",
     "start_time": "2023-05-24T21:00:05.478105Z"
    },
    "scrolled": true
   },
   "outputs": [],
   "source": [
    "total_Trips_by_Passenger_Count_of_04_19.show()\n",
    "plot_total_trips_by_passenger_count(total_Trips_by_Passenger_Count_of_04_19,\"April 2019\")\n",
    "total_Trips_by_Passenger_Count_of_04_20.show()\n",
    "plot_total_trips_by_passenger_count(total_Trips_by_Passenger_Count_of_04_20,\"April 2020\")"
   ]
  },
  {
   "cell_type": "markdown",
   "id": "forty-privacy",
   "metadata": {},
   "source": [
    "Trips with 0 or larger than 7 passengers are pretty rare. We suspect these to be outliers. We\n",
    "need to explore these trips further in order order to understand what might be wrong with\n",
    "them\n",
    "1. What’s special with trips with zero passengers?"
   ]
  },
  {
   "cell_type": "code",
   "execution_count": null,
   "id": "integral-greene",
   "metadata": {
    "ExecuteTime": {
     "end_time": "2023-05-24T20:06:45.643845Z",
     "start_time": "2023-05-24T20:06:45.613881Z"
    }
   },
   "outputs": [],
   "source": [
    "trips_zero_passengers = df_04_19.filter(col(\"passenger_count\") == 0)"
   ]
  },
  {
   "cell_type": "code",
   "execution_count": null,
   "id": "usual-thread",
   "metadata": {
    "ExecuteTime": {
     "end_time": "2023-05-24T20:06:52.484919Z",
     "start_time": "2023-05-24T20:06:45.646959Z"
    }
   },
   "outputs": [],
   "source": [
    "trips_zero_passengers.describe().show()"
   ]
  },
  {
   "cell_type": "markdown",
   "id": "constitutional-lawyer",
   "metadata": {},
   "source": [
    "2.What's special with trips with more than 6 passengers?"
   ]
  },
  {
   "cell_type": "code",
   "execution_count": null,
   "id": "rational-march",
   "metadata": {
    "ExecuteTime": {
     "end_time": "2023-05-24T20:06:52.505519Z",
     "start_time": "2023-05-24T20:06:52.487361Z"
    }
   },
   "outputs": [],
   "source": [
    "trips_more_6_passengers = df_04_19.filter(col(\"passenger_count\") > 6)"
   ]
  },
  {
   "cell_type": "code",
   "execution_count": null,
   "id": "thrown-morocco",
   "metadata": {
    "ExecuteTime": {
     "end_time": "2023-05-24T20:06:52.517376Z",
     "start_time": "2023-05-24T20:06:52.507881Z"
    }
   },
   "outputs": [],
   "source": [
    "trips_more_6_passengers"
   ]
  },
  {
   "cell_type": "markdown",
   "id": "announced-galaxy",
   "metadata": {},
   "source": [
    "3. What is the largest distance travelled during this month? "
   ]
  },
  {
   "cell_type": "code",
   "execution_count": null,
   "id": "enhanced-harvest",
   "metadata": {
    "ExecuteTime": {
     "end_time": "2023-05-24T20:06:54.186525Z",
     "start_time": "2023-05-24T20:06:52.520991Z"
    }
   },
   "outputs": [],
   "source": [
    "df_04_19.select(F.max('trip_distance')).show()"
   ]
  },
  {
   "cell_type": "markdown",
   "id": "distinct-press",
   "metadata": {},
   "source": [
    "Is it the first taxi on the moon? so close!"
   ]
  },
  {
   "cell_type": "code",
   "execution_count": null,
   "id": "harmful-norwegian",
   "metadata": {
    "ExecuteTime": {
     "end_time": "2023-05-24T20:06:54.737546Z",
     "start_time": "2023-05-24T20:06:54.188881Z"
    }
   },
   "outputs": [],
   "source": [
    "df_04_20.select(F.max('trip_distance')).show()"
   ]
  },
  {
   "cell_type": "markdown",
   "id": "surprised-pendant",
   "metadata": {},
   "source": [
    "4.Plot the distribution of the trip_distance (using an histogram for instance) during year\n",
    "2019. Focus on trips with non-zero trip distance and trip distance less than 30 miles."
   ]
  },
  {
   "cell_type": "code",
   "execution_count": null,
   "id": "owned-details",
   "metadata": {
    "ExecuteTime": {
     "end_time": "2023-05-24T20:06:54.783206Z",
     "start_time": "2023-05-24T20:06:54.741081Z"
    }
   },
   "outputs": [],
   "source": [
    "trip_distance_df = df_04_19.filter((col(\"trip_distance\") > 0)&(col(\"trip_distance\")<30))"
   ]
  },
  {
   "cell_type": "code",
   "execution_count": null,
   "id": "universal-vermont",
   "metadata": {
    "ExecuteTime": {
     "end_time": "2023-05-24T20:06:59.947253Z",
     "start_time": "2023-05-24T20:06:54.787534Z"
    },
    "scrolled": true
   },
   "outputs": [],
   "source": [
    "sampled_df = trip_distance_df.sample(False, 0.1) \n",
    "\n",
    "trip_distances = sampled_df.select(\"trip_distance\").rdd.flatMap(lambda x: x).collect()\n",
    "\n",
    "plt.hist(trip_distances, bins=50, color=\"blue\", edgecolor=\"black\")\n",
    "plt.title(\"Distribution of Trip Distances April 2019\")\n",
    "plt.xlabel(\"Trip Distance (miles)\")\n",
    "plt.ylabel(\"Frequency\")\n",
    "plt.show()"
   ]
  },
  {
   "cell_type": "code",
   "execution_count": null,
   "id": "current-adaptation",
   "metadata": {
    "ExecuteTime": {
     "end_time": "2023-05-24T20:07:00.053465Z",
     "start_time": "2023-05-24T20:06:59.949656Z"
    },
    "scrolled": false
   },
   "outputs": [],
   "source": [
    "trip_distance_df.explain(True)"
   ]
  },
  {
   "cell_type": "markdown",
   "id": "annoying-string",
   "metadata": {},
   "source": [
    "Let’s look at what Spark does for these computations\n",
    "• Parsed Logical Plan\n",
    "• Analyzed Logical Plan\n",
    "• Optimized Logical Plan\n",
    "• Physical Plan"
   ]
  },
  {
   "cell_type": "markdown",
   "id": "contemporary-yukon",
   "metadata": {},
   "source": [
    "Do the Analyzed Logical Plan and Optimized Logical Plan differ? Spot the differences if any. How would a RDBMS proceed with such a query?\n",
    "\n",
    "The Analyzed Logical Plan and Optimized Logical Plan are the same.\n",
    "In an RDBMS, the query would be parsed, optimized, and executed. \n",
    "\n",
    "Inspect the stages on Spark UI. How many stages are necessary to complete the Spark\n",
    "job? What are the roles of HashAggregate and Exchange hashpartitioning?\n"
   ]
  },
  {
   "cell_type": "code",
   "execution_count": null,
   "id": "further-xerox",
   "metadata": {
    "ExecuteTime": {
     "end_time": "2023-05-24T20:07:00.071791Z",
     "start_time": "2023-05-24T20:07:00.058664Z"
    },
    "scrolled": true
   },
   "outputs": [],
   "source": [
    "print(spark.sparkContext.uiWebUrl)"
   ]
  },
  {
   "cell_type": "markdown",
   "id": "likely-jersey",
   "metadata": {},
   "source": [
    "Does the physical plan perform shuffle operations? If yes how many? \n",
    "\n",
    "I don't know how check"
   ]
  },
  {
   "cell_type": "markdown",
   "id": "settled-frontier",
   "metadata": {},
   "source": [
    "the trip distance distribution for each day of week"
   ]
  },
  {
   "cell_type": "code",
   "execution_count": null,
   "id": "external-stake",
   "metadata": {
    "ExecuteTime": {
     "end_time": "2023-05-24T20:07:00.081005Z",
     "start_time": "2023-05-24T20:07:00.077238Z"
    }
   },
   "outputs": [],
   "source": [
    "day_dict = {1:'Sun', 2:'Mon', 3:'Tue', 4:'Wed', 5:'Thu', 6:'Fri', 7:'Sat'}\n"
   ]
  },
  {
   "cell_type": "code",
   "execution_count": null,
   "id": "ethical-block",
   "metadata": {
    "ExecuteTime": {
     "end_time": "2023-05-24T20:07:06.712396Z",
     "start_time": "2023-05-24T20:07:00.084091Z"
    }
   },
   "outputs": [],
   "source": [
    "df = df_04_19.withColumn(\"day_of_week\", dayofweek('tpep_pickup_datetime'))\n",
    "df = df.groupBy('day_of_week').agg({'trip_distance': 'mean'})\n",
    "df = df.orderBy('day_of_week')\n",
    "pd_df = df.toPandas()\n",
    "pd_df['day_of_week'] = pd_df['day_of_week'].replace(day_dict)\n"
   ]
  },
  {
   "cell_type": "code",
   "execution_count": null,
   "id": "activated-depression",
   "metadata": {
    "ExecuteTime": {
     "end_time": "2023-05-24T20:07:07.136840Z",
     "start_time": "2023-05-24T20:07:06.718111Z"
    },
    "scrolled": true
   },
   "outputs": [],
   "source": [
    "plt.figure(figsize=(10,6))\n",
    "sns.barplot(x='day_of_week', y='avg(trip_distance)', data=pd_df)\n",
    "plt.title('Average Trip Distance for Each Day of Week')\n",
    "plt.xlabel('Day of Week')\n",
    "plt.ylabel('Average Trip Distance')\n",
    "plt.show()"
   ]
  },
  {
   "cell_type": "markdown",
   "id": "scientific-exhibition",
   "metadata": {},
   "source": [
    "the number of distinct pickup location"
   ]
  },
  {
   "cell_type": "code",
   "execution_count": null,
   "id": "tight-sally",
   "metadata": {
    "ExecuteTime": {
     "end_time": "2023-05-24T20:07:09.931062Z",
     "start_time": "2023-05-24T20:07:07.140437Z"
    },
    "scrolled": true
   },
   "outputs": [],
   "source": [
    "num_distinct_pickup_locations = df_04_19.select(\"PULocationID\").distinct().count()\n",
    "print(num_distinct_pickup_locations)"
   ]
  },
  {
   "cell_type": "markdown",
   "id": "functional-worthy",
   "metadata": {},
   "source": [
    "Compute and display tips and profits as a function of the pickup location"
   ]
  },
  {
   "cell_type": "code",
   "execution_count": null,
   "id": "focused-colleague",
   "metadata": {
    "ExecuteTime": {
     "end_time": "2023-05-24T20:07:10.125722Z",
     "start_time": "2023-05-24T20:07:09.938752Z"
    }
   },
   "outputs": [],
   "source": [
    "df_profits = df_04_19.na.fill(0)"
   ]
  },
  {
   "cell_type": "code",
   "execution_count": null,
   "id": "assigned-copper",
   "metadata": {
    "ExecuteTime": {
     "end_time": "2023-05-24T20:07:17.392896Z",
     "start_time": "2023-05-24T20:07:10.130617Z"
    },
    "scrolled": true
   },
   "outputs": [],
   "source": [
    "#It is difficult to identify all the sites, so we chose to work only on the 20 most important areas.\n",
    "top_locations = df_profits.groupBy(\"PULocationID\").count().orderBy(F.desc(\"count\")).limit(20)\n",
    "\n",
    "df_profits = df_profits.withColumn(\"Profit\", \n",
    "                   F.col(\"Total_amount\") - \n",
    "                   (F.col(\"Fare_amount\") + \n",
    "                    F.col(\"Extra\") + \n",
    "                    F.col(\"MTA_tax\") + \n",
    "                    F.col(\"Improvement_surcharge\") + \n",
    "                    F.col(\"Tolls_amount\") + \n",
    "                    F.col(\"Congestion_Surcharge\") + \n",
    "                    F.col(\"Airport_fee\")))\n",
    "\n",
    "df_profits = df_profits.groupBy(\"PULocationID\").agg(\n",
    "    F.mean(\"Tip_amount\").alias(\"Avg_tip\"),\n",
    "    F.mean(\"Profit\").alias(\"Avg_profit\")\n",
    ")\n",
    "\n",
    "df_profits = df_profits.filter(F.col(\"Avg_profit\") >= 0)\n",
    "\n",
    "df_profits = df_profits.join(top_locations, \"PULocationID\")\n",
    "df_pandas = df_profits.toPandas()\n",
    "\n",
    "\n",
    "plt.figure(figsize=(10,5))\n",
    "sns.barplot(x='PULocationID', y='Avg_tip', data=df_pandas, ci=None)\n",
    "plt.title('Average Tips by Pickup Location')\n",
    "plt.ylabel('Average Tip Amount (USD)')\n",
    "plt.xticks(rotation=90)\n",
    "plt.show()\n",
    "\n",
    "\n",
    "\n",
    "plt.figure(figsize=(10,5))\n",
    "sns.barplot(x='PULocationID', y='Avg_profit', data=df_pandas, ci=None)\n",
    "plt.title('Average Profit by Pickup Location')\n",
    "plt.ylabel('Average Profit (USD)')\n",
    "plt.xticks(rotation=90)\n",
    "plt.show()"
   ]
  },
  {
   "cell_type": "markdown",
   "id": "innovative-roberts",
   "metadata": {},
   "source": [
    ">we can conclude that the profits are essentially made up of tips."
   ]
  },
  {
   "cell_type": "markdown",
   "id": "distinguished-strategy",
   "metadata": {},
   "source": [
    "# Investigate the data trips of APRIL in 2019, 2020, 2021, 2022 for yellow and fhv taxis"
   ]
  },
  {
   "cell_type": "markdown",
   "id": "deadly-combination",
   "metadata": {},
   "source": [
    "## preparing data"
   ]
  },
  {
   "cell_type": "markdown",
   "id": "selected-reduction",
   "metadata": {},
   "source": [
    "We will create a dictionary containing DataFrames, where each DataFrame includes the original data along with columns for pickup and dropoff coordinates (longitudes and latitudes), as well as the associated day of the week and hour of the day for each pickup. To improve processing performance, we will also partition the data by day of the week and hour of the day, and use cache() to store intermediate results for quicker access."
   ]
  },
  {
   "cell_type": "code",
   "execution_count": null,
   "id": "nuclear-algeria",
   "metadata": {
    "ExecuteTime": {
     "end_time": "2023-05-24T21:00:14.042942Z",
     "start_time": "2023-05-24T21:00:14.035402Z"
    }
   },
   "outputs": [],
   "source": [
    "def add_day_and_hour_columns(df, taxi_type):\n",
    "    if taxi_type == \"fhv\":\n",
    "        df = df.withColumnRenamed('pickup_datetime', 'tpep_pickup_datetime')\n",
    "    df = df.withColumn(\"day_of_week\", dayofweek('tpep_pickup_datetime')) \\\n",
    "           .withColumn(\"hour_of_day\", hour('tpep_pickup_datetime'))\n",
    "    df = df.repartition(\"day_of_week\", \"hour_of_day\").cache()\n",
    "    return df\n"
   ]
  },
  {
   "cell_type": "code",
   "execution_count": null,
   "id": "fossil-toolbox",
   "metadata": {
    "ExecuteTime": {
     "end_time": "2023-05-24T21:00:14.949760Z",
     "start_time": "2023-05-24T21:00:14.049171Z"
    }
   },
   "outputs": [],
   "source": [
    "df_yellow_04_2019 = add_day_and_hour_columns(associating_Pickup_Dropoff_Location_IDs_with_Longitude_Latitude(dfs[(2019,4,'yellow')]),'yellow')\n",
    "df_yellow_04_2020 = add_day_and_hour_columns(associating_Pickup_Dropoff_Location_IDs_with_Longitude_Latitude(dfs[(2020,4,'yellow')]),'yellow')\n",
    "df_yellow_04_2021 = add_day_and_hour_columns(associating_Pickup_Dropoff_Location_IDs_with_Longitude_Latitude(dfs[(2021,4,'yellow')]),'yellow')\n",
    "df_yellow_04_2022 = add_day_and_hour_columns(associating_Pickup_Dropoff_Location_IDs_with_Longitude_Latitude(dfs[(2022,4,'yellow')]),'yellow')"
   ]
  },
  {
   "cell_type": "code",
   "execution_count": null,
   "id": "stainless-microwave",
   "metadata": {
    "ExecuteTime": {
     "end_time": "2023-05-24T21:00:15.719519Z",
     "start_time": "2023-05-24T21:00:14.952049Z"
    }
   },
   "outputs": [],
   "source": [
    "df_fhv_04_2019 = add_day_and_hour_columns(associating_Pickup_Dropoff_Location_IDs_with_Longitude_Latitude(dfs[(2019,4,'fhv')]),'fhv')\n",
    "df_fhv_04_2020 = add_day_and_hour_columns(associating_Pickup_Dropoff_Location_IDs_with_Longitude_Latitude(dfs[(2020,4,'fhv')]),'fhv')\n",
    "df_fhv_04_2021 = add_day_and_hour_columns(associating_Pickup_Dropoff_Location_IDs_with_Longitude_Latitude(dfs[(2021,4,'fhv')]),'fhv')\n",
    "df_fhv_04_2022 = add_day_and_hour_columns(associating_Pickup_Dropoff_Location_IDs_with_Longitude_Latitude(dfs[(2022,4,'fhv')]),'fhv')"
   ]
  },
  {
   "cell_type": "code",
   "execution_count": null,
   "id": "federal-finnish",
   "metadata": {
    "ExecuteTime": {
     "end_time": "2023-05-24T21:00:15.733983Z",
     "start_time": "2023-05-24T21:00:15.721796Z"
    }
   },
   "outputs": [],
   "source": [
    "data = {\n",
    "    2019: {'yellow': df_yellow_04_2019,'fhv': df_fhv_04_2019},\n",
    "    2020: {'yellow': df_yellow_04_2020,'fhv': df_fhv_04_2020},\n",
    "    2021: {'yellow': df_yellow_04_2021,'fhv': df_fhv_04_2021},\n",
    "    2022: {'yellow': df_yellow_04_2022,'fhv': df_fhv_04_2022}\n",
    "}"
   ]
  },
  {
   "cell_type": "code",
   "execution_count": null,
   "id": "assumed-yahoo",
   "metadata": {
    "ExecuteTime": {
     "end_time": "2023-05-24T21:00:15.769066Z",
     "start_time": "2023-05-24T21:00:15.737123Z"
    }
   },
   "outputs": [],
   "source": [
    "df_fhv_04_2022.printSchema()"
   ]
  },
  {
   "cell_type": "markdown",
   "id": "assigned-creator",
   "metadata": {},
   "source": [
    "## Assessing seasonalities and looking at time series"
   ]
  },
  {
   "cell_type": "markdown",
   "id": "ordered-muslim",
   "metadata": {},
   "source": [
    "### The number of pickups"
   ]
  },
  {
   "cell_type": "code",
   "execution_count": null,
   "id": "focused-disney",
   "metadata": {
    "ExecuteTime": {
     "end_time": "2023-05-24T21:00:38.261452Z",
     "start_time": "2023-05-24T21:00:38.250503Z"
    }
   },
   "outputs": [],
   "source": [
    "def pickups_by_dow_hour(df):\n",
    "    result = df.groupBy('day_of_week', 'hour_of_day') \\\n",
    "               .agg(count('tpep_pickup_datetime').alias('num_pickups'))\\\n",
    "               .orderBy('day_of_week', 'hour_of_day')\n",
    "    return result"
   ]
  },
  {
   "cell_type": "code",
   "execution_count": null,
   "id": "gentle-enough",
   "metadata": {
    "ExecuteTime": {
     "end_time": "2023-05-24T21:00:38.613940Z",
     "start_time": "2023-05-24T21:00:38.608051Z"
    }
   },
   "outputs": [],
   "source": [
    "def plot_pickups_by_day_and_hour(df,date,taxi_type):\n",
    "    \n",
    "    df = df.toPandas()\n",
    "    fig = px.bar(df, x='hour_of_day', y='num_pickups', color='day_of_week', barmode='group', labels={'hour_of_day':'Hour of the day', 'num_pickups':'Number of pickups', 'day_of_week':'Day of the week'}, title=f'The number of pickups as a function of the day of the week and hour of day in {date} for {taxi_type} taxis')\n",
    "    fig.show()"
   ]
  },
  {
   "cell_type": "code",
   "execution_count": null,
   "id": "hired-spirituality",
   "metadata": {
    "ExecuteTime": {
     "end_time": "2023-05-24T20:08:05.732631Z",
     "start_time": "2023-05-24T20:07:18.805690Z"
    },
    "scrolled": false
   },
   "outputs": [],
   "source": [
    "plot_pickups_by_day_and_hour(pickups_by_dow_hour(data[2019]['yellow']),'April 2019','yellow')"
   ]
  },
  {
   "cell_type": "code",
   "execution_count": null,
   "id": "compressed-affair",
   "metadata": {
    "ExecuteTime": {
     "end_time": "2023-05-24T20:08:16.369920Z",
     "start_time": "2023-05-24T20:08:05.735071Z"
    }
   },
   "outputs": [],
   "source": [
    "plot_pickups_by_day_and_hour(pickups_by_dow_hour(data[2019]['fhv']),'April 2019','fhv')"
   ]
  },
  {
   "cell_type": "code",
   "execution_count": null,
   "id": "serious-sacrifice",
   "metadata": {
    "ExecuteTime": {
     "end_time": "2023-05-24T20:08:19.661426Z",
     "start_time": "2023-05-24T20:08:16.372082Z"
    }
   },
   "outputs": [],
   "source": [
    "plot_pickups_by_day_and_hour(pickups_by_dow_hour(data[2020]['yellow']),'April 2020','yellow')"
   ]
  },
  {
   "cell_type": "code",
   "execution_count": null,
   "id": "british-wrong",
   "metadata": {
    "ExecuteTime": {
     "start_time": "2023-05-24T20:06:24.530Z"
    }
   },
   "outputs": [],
   "source": [
    "plot_pickups_by_day_and_hour(pickups_by_dow_hour(data[2020]['fhv']),'April 2020','fhv')"
   ]
  },
  {
   "cell_type": "code",
   "execution_count": null,
   "id": "olive-paint",
   "metadata": {
    "ExecuteTime": {
     "start_time": "2023-05-24T20:06:24.765Z"
    }
   },
   "outputs": [],
   "source": [
    "plot_pickups_by_day_and_hour(pickups_by_dow_hour(data[2021]['yellow']),'April 2021','yellow')"
   ]
  },
  {
   "cell_type": "code",
   "execution_count": null,
   "id": "surprised-tuition",
   "metadata": {
    "ExecuteTime": {
     "start_time": "2023-05-24T20:06:25.013Z"
    }
   },
   "outputs": [],
   "source": [
    "plot_pickups_by_day_and_hour(pickups_by_dow_hour(data[2021]['fhv']),'April 2021','fhv')"
   ]
  },
  {
   "cell_type": "code",
   "execution_count": null,
   "id": "northern-verse",
   "metadata": {
    "ExecuteTime": {
     "start_time": "2023-05-24T20:06:25.248Z"
    }
   },
   "outputs": [],
   "source": [
    "plot_pickups_by_day_and_hour(pickups_by_dow_hour(data[2022]['yellow']),'April 2022','yellow')\n"
   ]
  },
  {
   "cell_type": "code",
   "execution_count": null,
   "id": "harmful-worker",
   "metadata": {
    "ExecuteTime": {
     "start_time": "2023-05-24T20:06:25.500Z"
    }
   },
   "outputs": [],
   "source": [
    "plot_pickups_by_day_and_hour(pickups_by_dow_hour(data[2022]['fhv']),'April 2022','fhv')"
   ]
  },
  {
   "cell_type": "markdown",
   "id": "contemporary-noise",
   "metadata": {},
   "source": [
    "### The average fare"
   ]
  },
  {
   "cell_type": "markdown",
   "id": "perfect-settlement",
   "metadata": {},
   "source": [
    "----Missing data for fhv taxis---"
   ]
  },
  {
   "cell_type": "code",
   "execution_count": null,
   "id": "fleet-apollo",
   "metadata": {
    "ExecuteTime": {
     "start_time": "2023-05-24T20:06:26.309Z"
    }
   },
   "outputs": [],
   "source": [
    "def avg_fare_by_dow_hour(df):\n",
    "    result = df.groupBy('day_of_week', 'hour_of_day') \\\n",
    "               .agg(avg('fare_amount').alias('average_fare')) \\\n",
    "               .orderBy('day_of_week', 'hour_of_day')\n",
    "    return result"
   ]
  },
  {
   "cell_type": "code",
   "execution_count": null,
   "id": "threatened-receiver",
   "metadata": {
    "ExecuteTime": {
     "start_time": "2023-05-24T20:06:26.809Z"
    }
   },
   "outputs": [],
   "source": [
    "def plot_avg_fare_by_dow_hour(df,date,taxi_type):\n",
    "    df = df.toPandas()\n",
    "    fig = px.bar(df, x='hour_of_day', y='average_fare', color='day_of_week', barmode='group', labels={'hour_of_day':'Hour of the day', 'average_fare':'average fare', 'day_of_week':'Day of the week'}, title=f'The avg fare as a function of the day of the week and hour of day in {date} for {taxi_type} taxis')\n",
    "    fig.show()"
   ]
  },
  {
   "cell_type": "code",
   "execution_count": null,
   "id": "searching-harvest",
   "metadata": {
    "ExecuteTime": {
     "start_time": "2023-05-24T20:06:26.871Z"
    }
   },
   "outputs": [],
   "source": [
    "plot_avg_fare_by_dow_hour(avg_fare_by_dow_hour(data[2019]['yellow']),'April 2019','yellow')"
   ]
  },
  {
   "cell_type": "code",
   "execution_count": null,
   "id": "dedicated-consistency",
   "metadata": {
    "ExecuteTime": {
     "start_time": "2023-05-24T20:06:26.930Z"
    }
   },
   "outputs": [],
   "source": [
    "plot_avg_fare_by_dow_hour(avg_fare_by_dow_hour(data[2019]['yellow']),'April 2019','yellow')"
   ]
  },
  {
   "cell_type": "code",
   "execution_count": null,
   "id": "burning-sierra",
   "metadata": {
    "ExecuteTime": {
     "start_time": "2023-05-24T20:06:26.993Z"
    }
   },
   "outputs": [],
   "source": [
    "plot_avg_fare_by_dow_hour(avg_fare_by_dow_hour(data[2020]['yellow']),'April 2020','yellow')"
   ]
  },
  {
   "cell_type": "code",
   "execution_count": null,
   "id": "ordinary-consultation",
   "metadata": {
    "ExecuteTime": {
     "start_time": "2023-05-24T20:06:27.058Z"
    }
   },
   "outputs": [],
   "source": [
    "plot_avg_fare_by_dow_hour(avg_fare_by_dow_hour(data[2021]['yellow']),'April 2021','yellow')"
   ]
  },
  {
   "cell_type": "code",
   "execution_count": null,
   "id": "wireless-fight",
   "metadata": {
    "ExecuteTime": {
     "start_time": "2023-05-24T20:06:27.112Z"
    }
   },
   "outputs": [],
   "source": [
    "plot_avg_fare_by_dow_hour(avg_fare_by_dow_hour(data[2022]['yellow']),'April 2022','yellow')"
   ]
  },
  {
   "cell_type": "markdown",
   "id": "moderate-barrel",
   "metadata": {},
   "source": [
    "### The average trip duration"
   ]
  },
  {
   "cell_type": "code",
   "execution_count": null,
   "id": "operating-chance",
   "metadata": {
    "ExecuteTime": {
     "start_time": "2023-05-24T20:06:27.238Z"
    }
   },
   "outputs": [],
   "source": [
    "def avg_duration_by_dow_hour(df):\n",
    "    df = df.withColumn(\"duration\", (unix_timestamp(\"tpep_dropoff_datetime\") - unix_timestamp(\"tpep_pickup_datetime\")) / 60)\n",
    "    result = df.groupBy('day_of_week', 'hour_of_day') \\\n",
    "               .agg(avg('duration').alias('average_duration')) \\\n",
    "               .orderBy('day_of_week', 'hour_of_day')\n",
    "    return result"
   ]
  },
  {
   "cell_type": "code",
   "execution_count": null,
   "id": "experienced-atlanta",
   "metadata": {
    "ExecuteTime": {
     "start_time": "2023-05-24T20:06:27.296Z"
    }
   },
   "outputs": [],
   "source": [
    "def plot_avg_duration_by_dow_hour(df,date,taxi_type):\n",
    "    df = df.toPandas()\n",
    "    fig = px.bar(df, x='hour_of_day', y='average_duration', color='day_of_week', barmode='group', labels={'hour_of_day':'Hour of the day', 'average_duration':'average duration', 'day_of_week':'Day of the week'}, title=f'The average duration as a function of the day of the week and hour of day in {date} for {taxi_type} taxis')\n",
    "    fig.show()"
   ]
  },
  {
   "cell_type": "code",
   "execution_count": null,
   "id": "sweet-lotus",
   "metadata": {
    "ExecuteTime": {
     "start_time": "2023-05-24T20:06:27.362Z"
    },
    "scrolled": true
   },
   "outputs": [],
   "source": [
    "plot_avg_duration_by_dow_hour(avg_duration_by_dow_hour(data[2019]['yellow']),'April 2019','yellow')"
   ]
  },
  {
   "cell_type": "code",
   "execution_count": null,
   "id": "intense-angola",
   "metadata": {
    "ExecuteTime": {
     "start_time": "2023-05-24T20:06:27.418Z"
    },
    "scrolled": true
   },
   "outputs": [],
   "source": [
    "plot_avg_duration_by_dow_hour(avg_duration_by_dow_hour(data[2020]['yellow']),'April 2020','yellow')"
   ]
  },
  {
   "cell_type": "markdown",
   "id": "considered-resistance",
   "metadata": {},
   "source": [
    "### The average of ongoing trips"
   ]
  },
  {
   "cell_type": "code",
   "execution_count": null,
   "id": "valuable-click",
   "metadata": {
    "ExecuteTime": {
     "start_time": "2023-05-24T20:06:27.540Z"
    }
   },
   "outputs": [],
   "source": [
    "# We didn't understand the question!"
   ]
  },
  {
   "cell_type": "markdown",
   "id": "urban-offering",
   "metadata": {},
   "source": [
    "## Rides to the airports"
   ]
  },
  {
   "cell_type": "code",
   "execution_count": null,
   "id": "empty-twelve",
   "metadata": {
    "ExecuteTime": {
     "start_time": "2023-05-24T20:06:27.660Z"
    }
   },
   "outputs": [],
   "source": [
    "midtown = {'lon_min':-74.01, 'lon_max':-73.96, 'lat_min':40.73, 'lat_max':40.78}\n",
    "jfk = {'lon_min':-73.84, 'lon_max':-73.75, 'lat_min':40.61, 'lat_max':40.67}\n",
    "newark = {'lon_min':-74.21, 'lon_max':-74.14, 'lat_min':40.66, 'lat_max':40.72}\n",
    "laguardia = {'lon_min':-73.90, 'lon_max':-73.85, 'lat_min':40.76, 'lat_max':40.79}"
   ]
  },
  {
   "cell_type": "code",
   "execution_count": null,
   "id": "qualified-announcement",
   "metadata": {
    "ExecuteTime": {
     "start_time": "2023-05-24T20:06:27.750Z"
    }
   },
   "outputs": [],
   "source": [
    "\n",
    "def median_trip_duration(df, pickup_bounds, dropoff_bounds):\n",
    "    filtered_df = df.filter(\n",
    "        (col(\"pickup_longitude\") >= pickup_bounds[\"lon_min\"]) &\n",
    "        (col(\"pickup_longitude\") <= pickup_bounds[\"lon_max\"]) &\n",
    "        (col(\"pickup_latitude\") >= pickup_bounds[\"lat_min\"]) &\n",
    "        (col(\"pickup_latitude\") <= pickup_bounds[\"lat_max\"]) &\n",
    "        (col(\"dropoff_longitude\") >= dropoff_bounds[\"lon_min\"]) &\n",
    "        (col(\"dropoff_longitude\") <= dropoff_bounds[\"lon_max\"]) &\n",
    "        (col(\"dropoff_latitude\") >= dropoff_bounds[\"lat_min\"]) &\n",
    "        (col(\"dropoff_latitude\") <= dropoff_bounds[\"lat_max\"])\n",
    "    )\n",
    "\n",
    "    result = (\n",
    "        filtered_df\n",
    "        .withColumn('duration', (unix_timestamp(\"tpep_dropoff_datetime\") - unix_timestamp(\"tpep_pickup_datetime\")) / 60)\n",
    "        .groupBy('day_of_week', 'hour_of_day')\n",
    "        .agg(F.expr(\"percentile_approx(duration, 0.5)\").alias(\"median_duration\"))\n",
    "        .orderBy('day_of_week', 'hour_of_day')\n",
    "    )\n",
    "\n",
    "\n",
    "    return result"
   ]
  },
  {
   "cell_type": "markdown",
   "id": "casual-instruction",
   "metadata": {},
   "source": [
    "###  Median duration of taxi trip leaving Midtown (Southern Manhattan) headed for JFK Airport"
   ]
  },
  {
   "cell_type": "code",
   "execution_count": null,
   "id": "interim-affair",
   "metadata": {
    "ExecuteTime": {
     "start_time": "2023-05-24T20:06:27.878Z"
    }
   },
   "outputs": [],
   "source": [
    "d = median_trip_duration(data[2019]['yellow'], midtown, jfk)\n",
    "df = d.toPandas()\n",
    "fig = px.bar(df, x='hour_of_day', y='median_duration', color='day_of_week', labels={'hour_of_day':'Hour of the day', 'median_duration':'median duration', 'day_of_week':'Day of the week'},title=\"Median duration of taxi trip leaving Midtown (Southern Manhattan) headed for JFK Airport\")\n",
    "fig.show()"
   ]
  },
  {
   "cell_type": "markdown",
   "id": "committed-macintosh",
   "metadata": {},
   "source": [
    "### Median taxi duration of trip leaving from JFK Airport to Midtown (Southern Manhattan)"
   ]
  },
  {
   "cell_type": "code",
   "execution_count": null,
   "id": "radio-sodium",
   "metadata": {
    "ExecuteTime": {
     "start_time": "2023-05-24T20:06:27.994Z"
    }
   },
   "outputs": [],
   "source": [
    "d = median_trip_duration(data[2019]['yellow'], jfk, midtown)\n",
    "df = d.toPandas()\n",
    "fig = px.bar(df, x='hour_of_day', y='median_duration', color='day_of_week', labels={'hour_of_day':'Hour of the day', 'median_duration':'median duration', 'day_of_week':'Day of the week'},title='Median taxi duration of trip leaving from JFK Airport to Midtown (Southern Manhattan)')\n",
    "fig.show()"
   ]
  },
  {
   "cell_type": "markdown",
   "id": "gross-equality",
   "metadata": {},
   "source": [
    "# Geographic information"
   ]
  },
  {
   "cell_type": "markdown",
   "id": "square-better",
   "metadata": {},
   "source": [
    "In this section, we are going to work "
   ]
  },
  {
   "cell_type": "markdown",
   "id": "academic-armenia",
   "metadata": {},
   "source": [
    "1. a heatmap where color is a function of number of pickups, number of dropoffs and number of pickups with dropoff at some airport (JFK, LaGuardia, Newark)"
   ]
  },
  {
   "cell_type": "code",
   "execution_count": null,
   "id": "addressed-sugar",
   "metadata": {
    "ExecuteTime": {
     "start_time": "2023-05-24T20:06:28.206Z"
    }
   },
   "outputs": [],
   "source": [
    "def pickups_count(df):\n",
    "    result = df.groupBy('PULocationID').agg(count('*').alias('num_pickups'))\n",
    "    return result.toPandas()\n",
    "def dropoff_count(df):\n",
    "    result = df.groupBy('DOLocationID').agg(count('*').alias('num_dropoff'))\n",
    "    return result.toPandas()\n",
    "def pickups_dropoff_airport(df):\n",
    "    result = (df\n",
    "              .where(((jfk['lat_min'] <= col(\"dropoff_latitude\")) & (col(\"dropoff_latitude\") <= jfk['lat_max'])\n",
    "                      & (jfk['lon_min'] <= col(\"dropoff_longitude\")) & (col(\"dropoff_longitude\") <= jfk['lon_max']))\n",
    "                    |((newark['lat_min'] <= col(\"dropoff_latitude\")) & (col(\"dropoff_latitude\") <= newark['lat_max'])\n",
    "                      & (newark['lon_min'] <= col(\"dropoff_longitude\")) & (col(\"dropoff_longitude\") <= newark['lon_max']))\n",
    "                    |((laguardia['lat_min'] <= col(\"dropoff_latitude\")) & (col(\"dropoff_latitude\") <= laguardia['lat_max'])\n",
    "                      & (laguardia['lon_min'] <= col(\"dropoff_longitude\")) & (col(\"dropoff_longitude\") <= laguardia['lon_max'])))\n",
    "              .groupBy('PULocationID')\n",
    "              .agg(count('*').alias('num_pickups_dropoff_airport'))\n",
    "             )\n",
    "    return result.toPandas()\n"
   ]
  },
  {
   "cell_type": "code",
   "execution_count": null,
   "id": "knowing-woman",
   "metadata": {
    "ExecuteTime": {
     "start_time": "2023-05-24T20:06:28.268Z"
    }
   },
   "outputs": [],
   "source": [
    "pickups_df = pickups_count(data[2019]['yellow'])\n",
    "dropoffs_df = dropoff_count(data[2019]['yellow'])\n",
    "airport_pickups_df = pickups_dropoff_airport(data[2019]['yellow'])\n",
    "pickups_df.dtypes\n",
    "pickups_map = taxi_zones_df.merge(pickups_df, left_on='LocationID', right_on='PULocationID')\n",
    "dropoffs_map = taxi_zones_df.merge(dropoffs_df, left_on='LocationID', right_on='DOLocationID')\n",
    "airport_pickups_map = taxi_zones_df.merge(airport_pickups_df, left_on='LocationID', right_on='PULocationID')"
   ]
  },
  {
   "cell_type": "code",
   "execution_count": null,
   "id": "departmental-dryer",
   "metadata": {
    "ExecuteTime": {
     "start_time": "2023-05-24T20:06:28.326Z"
    }
   },
   "outputs": [],
   "source": [
    "airport_pickups_map.head(1)"
   ]
  },
  {
   "cell_type": "code",
   "execution_count": null,
   "id": "changed-clinic",
   "metadata": {
    "ExecuteTime": {
     "start_time": "2023-05-24T20:06:28.393Z"
    },
    "scrolled": true
   },
   "outputs": [],
   "source": [
    "def plot(df, column, title):\n",
    "    fig, ax = plt.subplots(figsize=(12, 8))\n",
    "    gdf = gpd.GeoDataFrame(df) \n",
    "    gdf.plot(column=column, cmap='viridis', ax=ax, legend=True)\n",
    "    ax.set_aspect('equal')\n",
    "    ax.set_title(title, fontsize=18)\n",
    "    plt.show()\n",
    "\n",
    "plot(pickups_map, column='num_pickups', title='Pickups Heatmap')\n",
    "\n",
    "plot(dropoffs_map, column='num_dropoff', title='Dropoffs Heatmap')\n",
    "\n",
    "plot(airport_pickups_map, column='num_pickups_dropoff_airport', title='Pickups to Airport Heatmap')\n"
   ]
  },
  {
   "cell_type": "markdown",
   "id": "express-collins",
   "metadata": {},
   "source": [
    "2. Build a choropeth map where color is a function of number of pickups in the area, ratio of number of payments by card/number of cash payments for pickups in the area and ratio of total fare/trip duration for dropoff in the area"
   ]
  },
  {
   "cell_type": "code",
   "execution_count": null,
   "id": "surprising-lafayette",
   "metadata": {
    "ExecuteTime": {
     "start_time": "2023-05-24T20:06:28.509Z"
    }
   },
   "outputs": [],
   "source": [
    "pickup_df = data[2019]['yellow'].groupBy('PULocationID').count().withColumnRenamed('count', 'num_pickups')\n",
    "\n",
    "card_payments_df = data[2019]['yellow'].filter(data[2019]['yellow'].payment_type == 1).groupBy('PULocationID').count().withColumnRenamed('count', 'card_payments')\n",
    "\n",
    "cash_payments_df = data[2019]['yellow'].filter(data[2019]['yellow'].payment_type == 2).groupBy('PULocationID').count().withColumnRenamed('count', 'cash_payments')\n",
    "\n",
    "pickup_df = pickup_df.join(card_payments_df, 'PULocationID', 'outer').join(cash_payments_df, 'PULocationID', 'outer')\n",
    "\n",
    "pickup_df = pickup_df.withColumn('card_cash_ratio', F.when(F.col('cash_payments') == 0, F.lit(None)).otherwise(F.col('card_payments') / F.col('cash_payments')))\n",
    "\n",
    "pickup_df.show()"
   ]
  },
  {
   "cell_type": "code",
   "execution_count": null,
   "id": "frozen-mattress",
   "metadata": {
    "ExecuteTime": {
     "start_time": "2023-05-24T20:06:28.573Z"
    }
   },
   "outputs": [],
   "source": [
    "df = data[2019]['yellow'].withColumn(\"trip_duration_minutes\", \n",
    "                   (F.unix_timestamp(data[2019]['yellow'].tpep_dropoff_datetime) - F.unix_timestamp(data[2019]['yellow'].tpep_pickup_datetime)) / 60)\n",
    "\n",
    "dropoff_df = df.groupBy('DOLocationID').agg(F.sum('fare_amount').alias('total_fare'),\n",
    "                                             F.sum('trip_duration_minutes').alias('total_duration'))\n",
    "\n",
    "dropoff_df = dropoff_df.withColumn('fare_duration_ratio', \n",
    "                                   F.when(F.col('total_duration') == 0, F.lit(None)).otherwise(F.col('total_fare') / F.col('total_duration')))\n",
    "\n",
    "dropoff_df = dropoff_df.drop('total_fare', 'total_duration')\n",
    "\n",
    "dropoff_df.show()\n"
   ]
  },
  {
   "cell_type": "code",
   "execution_count": null,
   "id": "clear-testing",
   "metadata": {
    "ExecuteTime": {
     "start_time": "2023-05-24T20:06:28.632Z"
    }
   },
   "outputs": [],
   "source": [
    "pickup_pd_df = pickup_df.toPandas()\n",
    "dropoff_pd_df = dropoff_df.toPandas()"
   ]
  },
  {
   "cell_type": "code",
   "execution_count": null,
   "id": "visible-overview",
   "metadata": {
    "ExecuteTime": {
     "start_time": "2023-05-24T20:06:28.698Z"
    }
   },
   "outputs": [],
   "source": [
    "geo_pickup_df = taxi_zones_df.merge(pickup_pd_df, left_on='LocationID', right_on='PULocationID', how='right')\n",
    "geo_dropoff_df = taxi_zones_df.merge(dropoff_pd_df, left_on='LocationID', right_on='DOLocationID', how='right')"
   ]
  },
  {
   "cell_type": "code",
   "execution_count": null,
   "id": "wrong-niger",
   "metadata": {
    "ExecuteTime": {
     "start_time": "2023-05-24T20:06:28.755Z"
    }
   },
   "outputs": [],
   "source": [
    "plot(geo_pickup_df, column='card_cash_ratio', title='card_cash_ratio')\n",
    "\n",
    "plot(geo_dropoff_df, column='fare_duration_ratio', title='fare_duration_ratio')\n"
   ]
  },
  {
   "cell_type": "markdown",
   "id": "sunrise-copper",
   "metadata": {},
   "source": [
    "3. Build an interactive chorophet with a slider allowing the user to select an hour of day and where the color is a function of average number of dropoffs in the area during that hour the day and average ratio of tip over total fare amount for pickups in the area at given hour of the day"
   ]
  },
  {
   "cell_type": "code",
   "execution_count": null,
   "id": "common-promise",
   "metadata": {
    "ExecuteTime": {
     "start_time": "2023-05-24T20:06:28.881Z"
    }
   },
   "outputs": [],
   "source": [
    "\n",
    "avg_do_by_hour_DOLocationId = data[2019]['yellow'].groupBy('hour_of_day','DOLocationID').mean()\n",
    "\n",
    "avg_ratio_tip_over_fare_amount_by_hour_PULocationID = data[2019]['yellow'] \\\n",
    "    .filter((col('fare_amount') != 0) & (~col('fare_amount').isNull())) \\\n",
    "    .withColumn('tip_to_fare_ratio', col('tip_amount') / col('fare_amount')) \\\n",
    "    .groupBy('hour_of_day', 'PULocationID', 'tip_to_fare_ratio') \\\n",
    "    .mean()\n"
   ]
  },
  {
   "cell_type": "markdown",
   "id": "artificial-aggregate",
   "metadata": {},
   "source": [
    "4. Spot traﬀic imbalances. For each day and each hour, and each zone, compute the number of trips arriving and leaving the zone, compute the ratio between the two quantities and build a choropleth spotting possible imbalances."
   ]
  },
  {
   "cell_type": "code",
   "execution_count": null,
   "id": "sealed-reducing",
   "metadata": {
    "ExecuteTime": {
     "end_time": "2023-05-24T21:10:38.074549Z",
     "start_time": "2023-05-24T21:10:33.795535Z"
    }
   },
   "outputs": [],
   "source": [
    "\n",
    "df1 = data[2019]['yellow'].groupBy('day_of_week', 'hour_of_day', 'DOLocationID').agg(count('*').alias('arriving_count'))\n",
    "df2 = data[2019]['yellow'].groupBy('day_of_week', 'hour_of_day', 'PULocationID').agg(count('*').alias('leaving_count'))\n",
    "df= df1.join(df2, on=['day_of_week', 'hour_of_day'], how='inner')\n",
    "df = df.filter(col('DOLocationID') == col('PULocationID')).withColumn('imbalance_ratio', col('arriving_count') / col('leaving_count'))\n",
    "df_pd=df.toPandas()\n",
    "df_pd=taxi_zones_df.merge(df_pd, left_on='LocationID', right_on='DOLocationID', how='right')\n",
    "df_pd['imbalance_ratio'] = df_pd['imbalance_ratio'].astype(float)\n",
    "df_pd = gpd.GeoDataFrame(df_pd, geometry='geometry')"
   ]
  },
  {
   "cell_type": "code",
   "execution_count": null,
   "id": "sixth-australian",
   "metadata": {
    "ExecuteTime": {
     "end_time": "2023-05-24T21:10:48.260876Z",
     "start_time": "2023-05-24T21:10:38.076914Z"
    }
   },
   "outputs": [],
   "source": [
    "fig, ax = plt.subplots(1, 1)\n",
    "df_pd.plot(column='imbalance_ratio', \n",
    "            ax=ax, \n",
    "            legend=True, \n",
    "            cmap='YlOrRd', \n",
    "            legend_kwds={'label': \"Imbalance Ratio\", 'orientation': \"horizontal\"},\n",
    "            missing_kwds={\"color\": \"lightgrey\", \"label\": \"Missing values\"})\n",
    "plt.show()\n"
   ]
  },
  {
   "cell_type": "markdown",
   "id": "vital-portable",
   "metadata": {},
   "source": [
    "# Covid impact"
   ]
  },
  {
   "cell_type": "markdown",
   "id": "irish-newport",
   "metadata": {},
   "source": [
    "We are going to download the first 7 months of 2020 year"
   ]
  },
  {
   "cell_type": "code",
   "execution_count": null,
   "id": "photographic-bruce",
   "metadata": {
    "ExecuteTime": {
     "start_time": "2023-05-24T20:06:29.148Z"
    }
   },
   "outputs": [],
   "source": [
    "m = [1,2,3,4,5,6,7]\n",
    "for month in m:\n",
    "    download_taxi_data(2020, month,'yellow')"
   ]
  },
  {
   "cell_type": "code",
   "execution_count": null,
   "id": "known-marking",
   "metadata": {
    "ExecuteTime": {
     "start_time": "2023-05-24T20:06:29.219Z"
    },
    "scrolled": true
   },
   "outputs": [],
   "source": [
    "\n",
    "for month in m:\n",
    "    filename = f\"yellow_tripdata_2020-{month:02d}.parquet\"\n",
    "    df = spark.read.parquet(filename)\n",
    "    dfs[(2020, month, 'yellow')] = df\n",
    "    \n"
   ]
  },
  {
   "cell_type": "code",
   "execution_count": null,
   "id": "prime-tactics",
   "metadata": {
    "ExecuteTime": {
     "start_time": "2023-05-24T20:06:29.275Z"
    }
   },
   "outputs": [],
   "source": [
    "union_df = dfs[(2020, m[0], 'yellow')]\n",
    "for month in m[1:]:\n",
    "    union_df = union_df.union(dfs[(2020, month, 'yellow')])"
   ]
  },
  {
   "cell_type": "code",
   "execution_count": null,
   "id": "filled-conservation",
   "metadata": {
    "ExecuteTime": {
     "start_time": "2023-05-24T20:06:29.333Z"
    }
   },
   "outputs": [],
   "source": [
    "df_by_day = union_df.groupBy(date_format('tpep_pickup_datetime', 'yyyy-MM-dd').alias('date')) \\\n",
    "                  .agg(count('*').alias('num_trips')) \\\n",
    "                  .orderBy('date')\n",
    "\n",
    "pdf_by_day = df_by_day.toPandas()\n",
    "pdf_by_day[\"date\"] = pd.to_datetime(pdf_by_day[\"date\"])"
   ]
  },
  {
   "cell_type": "code",
   "execution_count": null,
   "id": "democratic-dining",
   "metadata": {
    "ExecuteTime": {
     "start_time": "2023-05-24T20:06:29.393Z"
    }
   },
   "outputs": [],
   "source": [
    "ax = pdf_by_day.plot(x=\"date\", y=\"num_trips\", kind=\"line\", figsize=(12, 6), title=\"Number of Trips by Day\")\n",
    "plt.axvline(x='2020-03-21', color='r', linestyle='--', label='Covid lockdown')\n",
    "ax.set_xlim('2020-01-01','2020-06-30')\n",
    "plt.legend()\n",
    "plt.show()\n"
   ]
  },
  {
   "cell_type": "markdown",
   "id": "purple-worse",
   "metadata": {},
   "source": [
    "# Clean cache and stop spark"
   ]
  },
  {
   "cell_type": "code",
   "execution_count": null,
   "id": "indie-pursuit",
   "metadata": {
    "ExecuteTime": {
     "start_time": "2023-05-24T20:06:29.533Z"
    }
   },
   "outputs": [],
   "source": [
    "def list_all_active_dataframes():\n",
    "    return [obj for obj in globals().values() if isinstance(obj, DataFrame)]\n",
    "\n",
    "def uncache_all_dataframes():\n",
    "    for df in list_all_active_dataframes():\n",
    "        if df.storageLevel.useMemory:\n",
    "            df.unpersist()\n",
    "\n",
    "uncache_all_dataframes()"
   ]
  },
  {
   "cell_type": "code",
   "execution_count": null,
   "id": "surface-spiritual",
   "metadata": {
    "ExecuteTime": {
     "start_time": "2023-05-24T20:06:29.605Z"
    }
   },
   "outputs": [],
   "source": [
    "spark.stop()"
   ]
  }
 ],
 "metadata": {
  "kernelspec": {
   "display_name": "Python 3",
   "language": "python",
   "name": "python3"
  },
  "language_info": {
   "codemirror_mode": {
    "name": "ipython",
    "version": 3
   },
   "file_extension": ".py",
   "mimetype": "text/x-python",
   "name": "python",
   "nbconvert_exporter": "python",
   "pygments_lexer": "ipython3",
   "version": "3.8.5"
  },
  "toc": {
   "base_numbering": 1,
   "nav_menu": {},
   "number_sections": true,
   "sideBar": true,
   "skip_h1_title": false,
   "title_cell": "Table of Contents",
   "title_sidebar": "Contents",
   "toc_cell": false,
   "toc_position": {
    "height": "calc(100% - 180px)",
    "left": "10px",
    "top": "150px",
    "width": "165px"
   },
   "toc_section_display": true,
   "toc_window_display": true
  }
 },
 "nbformat": 4,
 "nbformat_minor": 5
}
